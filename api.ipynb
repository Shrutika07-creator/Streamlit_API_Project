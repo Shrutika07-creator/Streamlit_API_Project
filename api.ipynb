{
 "cells": [
  {
   "cell_type": "markdown",
   "id": "1ff9f74f",
   "metadata": {},
   "source": [
    "# Stock Market API Project"
   ]
  },
  {
   "cell_type": "code",
   "execution_count": 1,
   "id": "bf6718b9",
   "metadata": {},
   "outputs": [],
   "source": [
    "import streamlit as st"
   ]
  },
  {
   "cell_type": "code",
   "execution_count": 2,
   "id": "72937dec",
   "metadata": {},
   "outputs": [],
   "source": [
    "api_key = st.secrets[\"API_KEY\"]"
   ]
  },
  {
   "cell_type": "code",
   "execution_count": 3,
   "id": "0ab4db95",
   "metadata": {},
   "outputs": [
    {
     "data": {
      "text/html": [
       "<div>\n",
       "<style scoped>\n",
       "    .dataframe tbody tr th:only-of-type {\n",
       "        vertical-align: middle;\n",
       "    }\n",
       "\n",
       "    .dataframe tbody tr th {\n",
       "        vertical-align: top;\n",
       "    }\n",
       "\n",
       "    .dataframe thead th {\n",
       "        text-align: right;\n",
       "    }\n",
       "</style>\n",
       "<table border=\"1\" class=\"dataframe\">\n",
       "  <thead>\n",
       "    <tr style=\"text-align: right;\">\n",
       "      <th></th>\n",
       "      <th>1. symbol</th>\n",
       "      <th>2. name</th>\n",
       "      <th>3. type</th>\n",
       "      <th>4. region</th>\n",
       "      <th>5. marketOpen</th>\n",
       "      <th>6. marketClose</th>\n",
       "      <th>7. timezone</th>\n",
       "      <th>8. currency</th>\n",
       "      <th>9. matchScore</th>\n",
       "    </tr>\n",
       "  </thead>\n",
       "  <tbody>\n",
       "    <tr>\n",
       "      <th>0</th>\n",
       "      <td>SBIN.BSE</td>\n",
       "      <td>State Bank of India</td>\n",
       "      <td>Equity</td>\n",
       "      <td>India/Bombay</td>\n",
       "      <td>09:15</td>\n",
       "      <td>15:30</td>\n",
       "      <td>UTC+5.5</td>\n",
       "      <td>INR</td>\n",
       "      <td>1.0000</td>\n",
       "    </tr>\n",
       "    <tr>\n",
       "      <th>1</th>\n",
       "      <td>SBKFF</td>\n",
       "      <td>State Bank of India</td>\n",
       "      <td>Equity</td>\n",
       "      <td>United States</td>\n",
       "      <td>09:30</td>\n",
       "      <td>16:00</td>\n",
       "      <td>UTC-04</td>\n",
       "      <td>USD</td>\n",
       "      <td>1.0000</td>\n",
       "    </tr>\n",
       "    <tr>\n",
       "      <th>2</th>\n",
       "      <td>SID.FRK</td>\n",
       "      <td>State Bank of India</td>\n",
       "      <td>Equity</td>\n",
       "      <td>Frankfurt</td>\n",
       "      <td>08:00</td>\n",
       "      <td>20:00</td>\n",
       "      <td>UTC+02</td>\n",
       "      <td>EUR</td>\n",
       "      <td>1.0000</td>\n",
       "    </tr>\n",
       "    <tr>\n",
       "      <th>3</th>\n",
       "      <td>SBID.LON</td>\n",
       "      <td>State Bank of India GDR</td>\n",
       "      <td>Equity</td>\n",
       "      <td>United Kingdom</td>\n",
       "      <td>08:00</td>\n",
       "      <td>16:30</td>\n",
       "      <td>UTC+01</td>\n",
       "      <td>USD</td>\n",
       "      <td>0.9048</td>\n",
       "    </tr>\n",
       "  </tbody>\n",
       "</table>\n",
       "</div>"
      ],
      "text/plain": [
       "  1. symbol                  2. name 3. type       4. region 5. marketOpen  \\\n",
       "0  SBIN.BSE      State Bank of India  Equity    India/Bombay         09:15   \n",
       "1     SBKFF      State Bank of India  Equity   United States         09:30   \n",
       "2   SID.FRK      State Bank of India  Equity       Frankfurt         08:00   \n",
       "3  SBID.LON  State Bank of India GDR  Equity  United Kingdom         08:00   \n",
       "\n",
       "  6. marketClose 7. timezone 8. currency 9. matchScore  \n",
       "0          15:30     UTC+5.5         INR        1.0000  \n",
       "1          16:00      UTC-04         USD        1.0000  \n",
       "2          20:00      UTC+02         EUR        1.0000  \n",
       "3          16:30      UTC+01         USD        0.9048  "
      ]
     },
     "execution_count": 3,
     "metadata": {},
     "output_type": "execute_result"
    }
   ],
   "source": [
    "import requests\n",
    "import pandas as pd\n",
    "\n",
    "url = \"https://alpha-vantage.p.rapidapi.com/query\"\n",
    "\n",
    "querystring = {\n",
    "    \"datatype\": \"json\",\n",
    "    \"keywords\": \"State Bank of India\",\n",
    "    \"function\": \"SYMBOL_SEARCH\",\n",
    "}\n",
    "\n",
    "headers = {\"x-rapidapi-key\": api_key, \"x-rapidapi-host\": \"alpha-vantage.p.rapidapi.com\"}\n",
    "\n",
    "response = requests.get(url, headers=headers, params=querystring)\n",
    "\n",
    "data = response.json()[\"bestMatches\"]\n",
    "\n",
    "res = pd.DataFrame(data)\n",
    "\n",
    "res"
   ]
  },
  {
   "cell_type": "code",
   "execution_count": 4,
   "id": "cd091821",
   "metadata": {},
   "outputs": [
    {
     "name": "stdout",
     "output_type": "stream",
     "text": [
      "{'bestMatches': [{'1. symbol': 'MSF0.FRK', '2. name': 'MICROSOFT CORP. CDR', '3. type': 'Equity', '4. region': 'Frankfurt', '5. marketOpen': '08:00', '6. marketClose': '20:00', '7. timezone': 'UTC+02', '8. currency': 'EUR', '9. matchScore': '0.6429'}, {'1. symbol': 'MSFT', '2. name': 'Microsoft Corporation', '3. type': 'Equity', '4. region': 'United States', '5. marketOpen': '09:30', '6. marketClose': '16:00', '7. timezone': 'UTC-04', '8. currency': 'USD', '9. matchScore': '0.6154'}, {'1. symbol': '0QYP.LON', '2. name': 'Microsoft Corporation', '3. type': 'Equity', '4. region': 'United Kingdom', '5. marketOpen': '08:00', '6. marketClose': '16:30', '7. timezone': 'UTC+01', '8. currency': 'USD', '9. matchScore': '0.6000'}, {'1. symbol': 'MSF.DEX', '2. name': 'Microsoft Corporation', '3. type': 'Equity', '4. region': 'XETRA', '5. marketOpen': '08:00', '6. marketClose': '20:00', '7. timezone': 'UTC+02', '8. currency': 'EUR', '9. matchScore': '0.6000'}, {'1. symbol': 'MSF.FRK', '2. name': 'Microsoft Corporation', '3. type': 'Equity', '4. region': 'Frankfurt', '5. marketOpen': '08:00', '6. marketClose': '20:00', '7. timezone': 'UTC+02', '8. currency': 'EUR', '9. matchScore': '0.6000'}, {'1. symbol': 'MSFT34.SAO', '2. name': 'Microsoft Corporation', '3. type': 'Equity', '4. region': 'Brazil/Sao Paolo', '5. marketOpen': '10:00', '6. marketClose': '17:30', '7. timezone': 'UTC-03', '8. currency': 'BRL', '9. matchScore': '0.6000'}, {'1. symbol': 'MSFT.TRT', '2. name': 'Microsoft CDR (CAD Hedged)', '3. type': 'Equity', '4. region': 'Toronto', '5. marketOpen': '09:30', '6. marketClose': '16:00', '7. timezone': 'UTC-05', '8. currency': 'CAD', '9. matchScore': '0.5143'}]}\n"
     ]
    }
   ],
   "source": [
    "import requests\n",
    "\n",
    "url = \"https://alpha-vantage.p.rapidapi.com/query\"\n",
    "\n",
    "querystring = {\"datatype\": \"json\", \"keywords\": \"microsoft\", \"function\": \"SYMBOL_SEARCH\"}\n",
    "\n",
    "headers = {\"x-rapidapi-key\": api_key, \"x-rapidapi-host\": \"alpha-vantage.p.rapidapi.com\"}\n",
    "\n",
    "response = requests.get(url, headers=headers, params=querystring)\n",
    "\n",
    "print(response.json())"
   ]
  },
  {
   "cell_type": "markdown",
   "id": "2f9efe57",
   "metadata": {},
   "source": [
    "## Getting actual data for SBID.LON"
   ]
  },
  {
   "cell_type": "code",
   "execution_count": 5,
   "id": "f66942d5",
   "metadata": {},
   "outputs": [
    {
     "data": {
      "text/html": [
       "<div>\n",
       "<style scoped>\n",
       "    .dataframe tbody tr th:only-of-type {\n",
       "        vertical-align: middle;\n",
       "    }\n",
       "\n",
       "    .dataframe tbody tr th {\n",
       "        vertical-align: top;\n",
       "    }\n",
       "\n",
       "    .dataframe thead th {\n",
       "        text-align: right;\n",
       "    }\n",
       "</style>\n",
       "<table border=\"1\" class=\"dataframe\">\n",
       "  <thead>\n",
       "    <tr style=\"text-align: right;\">\n",
       "      <th></th>\n",
       "      <th>1. open</th>\n",
       "      <th>2. high</th>\n",
       "      <th>3. low</th>\n",
       "      <th>4. close</th>\n",
       "      <th>5. volume</th>\n",
       "    </tr>\n",
       "  </thead>\n",
       "  <tbody>\n",
       "    <tr>\n",
       "      <th>2025-05-16</th>\n",
       "      <td>92.7</td>\n",
       "      <td>92.7</td>\n",
       "      <td>91.8</td>\n",
       "      <td>92.4</td>\n",
       "      <td>14829.0</td>\n",
       "    </tr>\n",
       "    <tr>\n",
       "      <th>2025-05-15</th>\n",
       "      <td>91.4</td>\n",
       "      <td>93.2</td>\n",
       "      <td>91.0</td>\n",
       "      <td>92.8</td>\n",
       "      <td>40381.0</td>\n",
       "    </tr>\n",
       "    <tr>\n",
       "      <th>2025-05-14</th>\n",
       "      <td>93.2</td>\n",
       "      <td>94.2</td>\n",
       "      <td>93.0</td>\n",
       "      <td>94.2</td>\n",
       "      <td>14988.0</td>\n",
       "    </tr>\n",
       "    <tr>\n",
       "      <th>2025-05-13</th>\n",
       "      <td>94.1</td>\n",
       "      <td>94.6</td>\n",
       "      <td>93.3</td>\n",
       "      <td>94.6</td>\n",
       "      <td>29891.0</td>\n",
       "    </tr>\n",
       "    <tr>\n",
       "      <th>2025-05-12</th>\n",
       "      <td>93.8</td>\n",
       "      <td>94.5</td>\n",
       "      <td>93.3</td>\n",
       "      <td>94.1</td>\n",
       "      <td>32289.0</td>\n",
       "    </tr>\n",
       "    <tr>\n",
       "      <th>...</th>\n",
       "      <td>...</td>\n",
       "      <td>...</td>\n",
       "      <td>...</td>\n",
       "      <td>...</td>\n",
       "      <td>...</td>\n",
       "    </tr>\n",
       "    <tr>\n",
       "      <th>2024-12-30</th>\n",
       "      <td>93.0</td>\n",
       "      <td>93.2</td>\n",
       "      <td>92.0</td>\n",
       "      <td>92.2</td>\n",
       "      <td>9970.0</td>\n",
       "    </tr>\n",
       "    <tr>\n",
       "      <th>2024-12-27</th>\n",
       "      <td>94.5</td>\n",
       "      <td>94.5</td>\n",
       "      <td>93.2</td>\n",
       "      <td>93.5</td>\n",
       "      <td>11570.0</td>\n",
       "    </tr>\n",
       "    <tr>\n",
       "      <th>2024-12-24</th>\n",
       "      <td>95.6</td>\n",
       "      <td>95.6</td>\n",
       "      <td>95.2</td>\n",
       "      <td>95.2</td>\n",
       "      <td>5048.0</td>\n",
       "    </tr>\n",
       "    <tr>\n",
       "      <th>2024-12-23</th>\n",
       "      <td>96.6</td>\n",
       "      <td>96.6</td>\n",
       "      <td>95.6</td>\n",
       "      <td>96.1</td>\n",
       "      <td>32896.0</td>\n",
       "    </tr>\n",
       "    <tr>\n",
       "      <th>2024-12-20</th>\n",
       "      <td>96.1</td>\n",
       "      <td>96.7</td>\n",
       "      <td>95.1</td>\n",
       "      <td>96.7</td>\n",
       "      <td>11667.0</td>\n",
       "    </tr>\n",
       "  </tbody>\n",
       "</table>\n",
       "<p>100 rows × 5 columns</p>\n",
       "</div>"
      ],
      "text/plain": [
       "            1. open  2. high  3. low  4. close  5. volume\n",
       "2025-05-16     92.7     92.7    91.8      92.4    14829.0\n",
       "2025-05-15     91.4     93.2    91.0      92.8    40381.0\n",
       "2025-05-14     93.2     94.2    93.0      94.2    14988.0\n",
       "2025-05-13     94.1     94.6    93.3      94.6    29891.0\n",
       "2025-05-12     93.8     94.5    93.3      94.1    32289.0\n",
       "...             ...      ...     ...       ...        ...\n",
       "2024-12-30     93.0     93.2    92.0      92.2     9970.0\n",
       "2024-12-27     94.5     94.5    93.2      93.5    11570.0\n",
       "2024-12-24     95.6     95.6    95.2      95.2     5048.0\n",
       "2024-12-23     96.6     96.6    95.6      96.1    32896.0\n",
       "2024-12-20     96.1     96.7    95.1      96.7    11667.0\n",
       "\n",
       "[100 rows x 5 columns]"
      ]
     },
     "execution_count": 5,
     "metadata": {},
     "output_type": "execute_result"
    }
   ],
   "source": [
    "url = \"https://alpha-vantage.p.rapidapi.com/query\"\n",
    "\n",
    "querystring = {\n",
    "    \"function\": \"TIME_SERIES_DAILY\",\n",
    "    \"symbol\": \"SBID.LON\",\n",
    "    \"outputsize\": \"compact\",\n",
    "    \"datatype\": \"json\",\n",
    "}\n",
    "\n",
    "headers = {\n",
    "    \"x-rapidapi-key\": api_key,\n",
    "    \"x-rapidapi-host\": \"alpha-vantage.p.rapidapi.com\",\n",
    "}\n",
    "\n",
    "response = requests.get(url, headers=headers, params=querystring)\n",
    "\n",
    "data1 = response.json()[\"Time Series (Daily)\"]\n",
    "res1 = pd.DataFrame(data1).T\n",
    "# Convert into float\n",
    "res1 = res1.astype(float)\n",
    "\n",
    "# COnvert into date time\n",
    "res1.index = pd.to_datetime(res1.index)\n",
    "\n",
    "res1"
   ]
  },
  {
   "cell_type": "code",
   "execution_count": 6,
   "id": "f3c0e431",
   "metadata": {},
   "outputs": [
    {
     "data": {
      "text/plain": [
       "1. open      float64\n",
       "2. high      float64\n",
       "3. low       float64\n",
       "4. close     float64\n",
       "5. volume    float64\n",
       "dtype: object"
      ]
     },
     "execution_count": 6,
     "metadata": {},
     "output_type": "execute_result"
    }
   ],
   "source": [
    "res1.dtypes"
   ]
  },
  {
   "cell_type": "code",
   "execution_count": 7,
   "id": "b25ca663",
   "metadata": {},
   "outputs": [
    {
     "data": {
      "text/plain": [
       "DatetimeIndex(['2025-05-16', '2025-05-15', '2025-05-14', '2025-05-13',\n",
       "               '2025-05-12', '2025-05-09', '2025-05-08', '2025-05-07',\n",
       "               '2025-05-06', '2025-05-02', '2025-05-01', '2025-04-30',\n",
       "               '2025-04-29', '2025-04-28', '2025-04-25', '2025-04-24',\n",
       "               '2025-04-23', '2025-04-22', '2025-04-17', '2025-04-16',\n",
       "               '2025-04-15', '2025-04-14', '2025-04-11', '2025-04-10',\n",
       "               '2025-04-09', '2025-04-08', '2025-04-07', '2025-04-04',\n",
       "               '2025-04-03', '2025-04-02', '2025-04-01', '2025-03-31',\n",
       "               '2025-03-28', '2025-03-27', '2025-03-26', '2025-03-25',\n",
       "               '2025-03-24', '2025-03-21', '2025-03-20', '2025-03-19',\n",
       "               '2025-03-18', '2025-03-17', '2025-03-14', '2025-03-13',\n",
       "               '2025-03-12', '2025-03-11', '2025-03-10', '2025-03-07',\n",
       "               '2025-03-06', '2025-03-05', '2025-03-04', '2025-03-03',\n",
       "               '2025-02-28', '2025-02-27', '2025-02-26', '2025-02-25',\n",
       "               '2025-02-24', '2025-02-21', '2025-02-20', '2025-02-19',\n",
       "               '2025-02-18', '2025-02-17', '2025-02-14', '2025-02-13',\n",
       "               '2025-02-12', '2025-02-11', '2025-02-10', '2025-02-07',\n",
       "               '2025-02-06', '2025-02-05', '2025-02-04', '2025-02-03',\n",
       "               '2025-01-31', '2025-01-30', '2025-01-29', '2025-01-28',\n",
       "               '2025-01-27', '2025-01-24', '2025-01-23', '2025-01-22',\n",
       "               '2025-01-21', '2025-01-20', '2025-01-17', '2025-01-16',\n",
       "               '2025-01-15', '2025-01-14', '2025-01-13', '2025-01-10',\n",
       "               '2025-01-09', '2025-01-08', '2025-01-07', '2025-01-06',\n",
       "               '2025-01-03', '2025-01-02', '2024-12-31', '2024-12-30',\n",
       "               '2024-12-27', '2024-12-24', '2024-12-23', '2024-12-20'],\n",
       "              dtype='datetime64[ns]', freq=None)"
      ]
     },
     "execution_count": 7,
     "metadata": {},
     "output_type": "execute_result"
    }
   ],
   "source": [
    "res1.index"
   ]
  },
  {
   "cell_type": "code",
   "execution_count": 8,
   "id": "5658ba22",
   "metadata": {},
   "outputs": [],
   "source": [
    "res1.to_csv(\"SBID.csv\")"
   ]
  },
  {
   "cell_type": "markdown",
   "id": "fab6f5a0",
   "metadata": {},
   "source": [
    "### Ploting the data"
   ]
  },
  {
   "cell_type": "code",
   "execution_count": 9,
   "id": "3deaeba1",
   "metadata": {},
   "outputs": [],
   "source": [
    "import plotly.graph_objects as go"
   ]
  },
  {
   "cell_type": "code",
   "execution_count": 10,
   "id": "41b5b1e5",
   "metadata": {},
   "outputs": [
    {
     "data": {
      "application/vnd.plotly.v1+json": {
       "config": {
        "plotlyServerURL": "https://plot.ly"
       },
       "data": [
        {
         "close": {
          "bdata": "mpmZmZkZV0AzMzMzMzNXQM3MzMzMjFdAZmZmZmamV0BmZmZmZoZXQM3MzMzMzFZAZmZmZmZGVkAAAAAAAOBWQAAAAAAAAFdAmpmZmZmZV0CamZmZmVlXQM3MzMzMTFdAmpmZmZnZV0CamZmZmdlXQDMzMzMzU1dAmpmZmZm5V0AzMzMzM5NXQM3MzMzMDFhAZmZmZmYmV0AzMzMzM3NWQJqZmZmZWVZAMzMzMzMzVkAzMzMzM9NVQAAAAAAA4FVAAAAAAABgVUAAAAAAAGBWQAAAAAAAYFVAMzMzMzPTVUAAAAAAAKBWQAAAAAAAoFZAzczMzMxsVkAzMzMzMzNWQDMzMzMzc1ZAAAAAAACgVkAzMzMzMzNWQM3MzMzMjFZAZmZmZmamVkAAAAAAAOBVQJqZmZmZmVVAZmZmZmaGVUDNzMzMzExVQJqZmZmZ+VRAAAAAAAAAVUDNzMzMzMxUQJqZmZmZuVRAAAAAAADAVEAzMzMzM7NUQGZmZmZm5lRAZmZmZmbmVEAzMzMzM9NUQGZmZmZmRlRAmpmZmZn5U0AzMzMzM7NTQJqZmZmZGVRAAAAAAABgVEBmZmZmZmZUQDMzMzMzk1RAZmZmZmbGVEAAAAAAAOBUQAAAAAAA4FRAzczMzMzMVEAAAAAAAOBUQAAAAAAA4FRAMzMzMzPzVEAzMzMzM/NUQDMzMzMzE1VAmpmZmZn5VEBmZmZmZuZUQM3MzMzMbFVAAAAAAADgVUBmZmZmZkZWQGZmZmZmxlVAMzMzMzMzVkAzMzMzM/NVQJqZmZmZuVVAzczMzMysVUAzMzMzM5NVQJqZmZmZeVVAZmZmZmaGVUAAAAAAAKBVQM3MzMzM7FVAAAAAAACAVkAAAAAAAABWQJqZmZmZGVZAAAAAAADAVUAAAAAAAIBVQAAAAAAAAFVAzczMzMyMVUDNzMzMzCxWQM3MzMzMbFZAAAAAAADAVkAzMzMzM7NWQM3MzMzMLFdAzczMzMxMV0BmZmZmZiZXQM3MzMzMDFdAAAAAAABgV0DNzMzMzMxXQGZmZmZmBlhAzczMzMwsWEA=",
          "dtype": "f8"
         },
         "high": {
          "bdata": "zczMzMwsV0DNzMzMzExXQM3MzMzMjFdAZmZmZmamV0AAAAAAAKBXQDMzMzMzE1dAZmZmZmYGV0CGyVTBqPRWQDMzMzMzE1dAMzMzMzPTV0BmZmZmZmZXQJqZmZmZWVdAMzMzMzPzV0DNzMzMzAxYQAAAAAAAYFdAzczMzMzsV0DmriXkg1ZYQJqZmZmZWVhAZmZmZmZGV0BmZmZmZqZWQLmNBvAWcFZAzczMzMxsVkAzMzMzMzNWQAAAAAAAwFZAzczMzMysVUAzMzMzM3NWQJqZmZmZuVZAmpmZmZm5VkAzMzMzM9NWQDMzMzMzs1ZAzczMzMyMVkAzMzMzM1NWQDMzMzMzs1ZAZmZmZmamVkDNzMzMzGxWQDMzMzMzk1ZAZmZmZmbGVkDNzMzMzOxVQGZmZmZmplVAZmZmZmamVUDNzMzMzGxVQJqZmZmZ+VRAAAAAAAAAVUBmZmZmZuZUQJqZmZmZuVRAAAAAAADgVEAAAAAAAOBUQGZmZmZmBlVANqs+V1sZVUDNzMzMzOxUQAAAAAAAgFRAZmZmZmYGVEAzMzMzM7NTQAAAAAAAQFRAzczMzMxsVECamZmZmXlUQGZmZmZmplRAMzMzMzPTVEAzMzMzMxNVQJqZmZmZ+VRAAAAAAADgVEDNzMzMzOxUQGZmZmZm5lRAzczMzMwMVUBmZmZmZiZVQGZmZmZmJlVAzczMzMwMVUCamZmZmRlVQDMzMzMz01VA2c73U+MpVkBmZmZmZkZWQJqZmZmZ2VVAmpmZmZlZVkCamZmZmflVQDMzMzMz01VAzczMzMzMVUAzMzMzM7NVQJqZmZmZmVVAzczMzMysVUA5RUdy+cNVQJqZmZmZGVZAzczMzMyMVkDNzMzMzAxWQAAAAAAAIFZAMzMzMzPTVUAzMzMzM7NVQJqZmZmZOVVAZmZmZmbGVUCamZmZmTlWQM3MzMzMzFlApb3BFybPVkDNzMzMzMxZQM3MzMzMTFdAmpmZmZlZV0BmZmZmZkZXQM3MzMzMTFdAAAAAAACgV0BmZmZmZuZXQGZmZmZmJlhAzczMzMwsWEA=",
          "dtype": "f8"
         },
         "low": {
          "bdata": "MzMzMzPzVkAAAAAAAMBWQAAAAAAAQFdAMzMzMzNTV0AzMzMzM1NXQGZmZmZmZlZAAAAAAAAgVkAzMzMzM7NWQDMzMzMz01ZAAAAAAACAV0DNzMzMzCxXQGZmZmZmJldAZmZmZmaGV0BmZmZmZsZXQAAAAAAAIFdAzczMzMyMV0DNzMzMzIxXQGZmZmZm5ldAZmZmZmamVkCamZmZmTlWQGZmZmZmJlZAZmZmZmYmVkAzMzMzM7NVQAAAAAAAgFVAzczMzMwMVUCamZmZmRlWQDMzMzMzM1VAAAAAAACgVUAAAAAAAKBWQGZmZmZmZlZAzczMzMxsVkBmZmZmZiZWQM3MzMzMbFZAZmZmZmZGVkDNzMzMzCxWQJqZmZmZeVZAAAAAAACAVkCamZmZmblVQGZmZmZmhlVAAAAAAACAVUCamZmZmRlVQAAAAAAAwFRAzczMzMzsVEDNzMzMzMxUQJqZmZmZmVRAmpmZmZm5VEAzMzMzM7NUQJqZmZmZ2VRAMzMzMzPTVECamZmZmblUQGZmZmZmRlRAMzMzMzOzU0DNzMzMzIxTQJqZmZmZGVRAMzMzMzNTVECamZmZmVlUQM3MzMzMjFRAMzMzMzOzVEAAAAAAAOBUQGZmZmZmxlRAAAAAAADAVECamZmZmblUQM3MzMzMjFRAMzMzMzPTVEBmZmZmZuZUQJqZmZmZ2VRAAAAAAADgVECamZmZmdlUQGZmZmZmZlVAAAAAAADAVUCamZmZmRlWQM3MzMzMrFVAZmZmZmYmVkDNzMzMzMxVQDMzMzMzs1VAMzMzMzOTVUCamZmZmXlVQGZmZmZmZlVAmpmZmZl5VUAAAAAAAEBVQGZmZmZmxlVAMzMzMzNTVkAAAAAAAOBVQJqZmZmZ+VVAmpmZmZmZVUCamZmZmXlVQDMzMzMz01RAMzMzMzNzVUDNzMzMzAxWQAAAAAAAQFZAZmZmZmamVkDNzMzMzGxWQAAAAAAAAFdAmpmZmZk5V0BmZmZmZiZXQAAAAAAAAFdAzczMzMxMV0DNzMzMzMxXQGZmZmZm5ldAZmZmZmbGV0A=",
          "dtype": "f8"
         },
         "open": {
          "bdata": "zczMzMwsV0CamZmZmdlWQM3MzMzMTFdAZmZmZmaGV0AzMzMzM3NXQGZmZmZmZlZAZmZmZmYGV0BmZmZmZuZWQGZmZmZm5lZAzczMzMyMV0BmZmZmZmZXQAAAAAAAQFdAMzMzMzPTV0BmZmZmZsZXQDMzMzMzM1dAMzMzMzOTV0BmZmZmZqZXQGZmZmZmRlhAZmZmZmamVkCamZmZmTlWQJqZmZmZOVZAmpmZmZlZVkAAAAAAAMBVQAAAAAAAwFZAzczMzMysVUCamZmZmTlWQDMzMzMzU1VAMzMzMzOzVkBmZmZmZqZWQJqZmZmZeVZAMzMzMzNzVkAAAAAAAEBWQM3MzMzMjFZAZmZmZmZGVkBmZmZmZmZWQM3MzMzMjFZAAAAAAACAVkAzMzMzM9NVQJqZmZmZmVVAMzMzMzOTVUCamZmZmRlVQJqZmZmZ2VRAMzMzMzPzVEDNzMzMzMxUQAAAAAAAoFRAAAAAAADgVEAAAAAAAOBUQDMzMzMz81RAzczMzMzsVEAAAAAAAMBUQM3MzMzMbFRAAAAAAADAU0AAAAAAAKBTQAAAAAAAQFRAMzMzMzNTVEAzMzMzM3NUQAAAAAAAoFRAzczMzMzMVECamZmZmflUQGZmZmZm5lRAAAAAAADAVEAAAAAAAMBUQJqZmZmZuVRAZmZmZmbmVEBmZmZmZiZVQDMzMzMz81RAAAAAAAAAVUAzMzMzMxNVQM3MzMzMjFVAzczMzMzsVUDNzMzMzCxWQJqZmZmZuVVAmpmZmZlZVkAzMzMzM9NVQAAAAAAAwFVAmpmZmZm5VUAzMzMzM5NVQDMzMzMzk1VAzczMzMyMVUAAAAAAAGBVQM3MzMzMDFZAZmZmZmaGVkAzMzMzM/NVQM3MzMzMDFZAAAAAAACgVUDNzMzMzKxVQJqZmZmZOVVAZmZmZmbGVUAAAAAAACBWQM3MzMzMTFZAAAAAAADAVkAAAAAAAKBWQGZmZmZmRldAMzMzMzNTV0BmZmZmZkZXQAAAAAAAQFdAAAAAAACgV0BmZmZmZuZXQGZmZmZmJlhAZmZmZmYGWEA=",
          "dtype": "f8"
         },
         "type": "candlestick",
         "x": [
          "2025-05-16T00:00:00.000000000",
          "2025-05-15T00:00:00.000000000",
          "2025-05-14T00:00:00.000000000",
          "2025-05-13T00:00:00.000000000",
          "2025-05-12T00:00:00.000000000",
          "2025-05-09T00:00:00.000000000",
          "2025-05-08T00:00:00.000000000",
          "2025-05-07T00:00:00.000000000",
          "2025-05-06T00:00:00.000000000",
          "2025-05-02T00:00:00.000000000",
          "2025-05-01T00:00:00.000000000",
          "2025-04-30T00:00:00.000000000",
          "2025-04-29T00:00:00.000000000",
          "2025-04-28T00:00:00.000000000",
          "2025-04-25T00:00:00.000000000",
          "2025-04-24T00:00:00.000000000",
          "2025-04-23T00:00:00.000000000",
          "2025-04-22T00:00:00.000000000",
          "2025-04-17T00:00:00.000000000",
          "2025-04-16T00:00:00.000000000",
          "2025-04-15T00:00:00.000000000",
          "2025-04-14T00:00:00.000000000",
          "2025-04-11T00:00:00.000000000",
          "2025-04-10T00:00:00.000000000",
          "2025-04-09T00:00:00.000000000",
          "2025-04-08T00:00:00.000000000",
          "2025-04-07T00:00:00.000000000",
          "2025-04-04T00:00:00.000000000",
          "2025-04-03T00:00:00.000000000",
          "2025-04-02T00:00:00.000000000",
          "2025-04-01T00:00:00.000000000",
          "2025-03-31T00:00:00.000000000",
          "2025-03-28T00:00:00.000000000",
          "2025-03-27T00:00:00.000000000",
          "2025-03-26T00:00:00.000000000",
          "2025-03-25T00:00:00.000000000",
          "2025-03-24T00:00:00.000000000",
          "2025-03-21T00:00:00.000000000",
          "2025-03-20T00:00:00.000000000",
          "2025-03-19T00:00:00.000000000",
          "2025-03-18T00:00:00.000000000",
          "2025-03-17T00:00:00.000000000",
          "2025-03-14T00:00:00.000000000",
          "2025-03-13T00:00:00.000000000",
          "2025-03-12T00:00:00.000000000",
          "2025-03-11T00:00:00.000000000",
          "2025-03-10T00:00:00.000000000",
          "2025-03-07T00:00:00.000000000",
          "2025-03-06T00:00:00.000000000",
          "2025-03-05T00:00:00.000000000",
          "2025-03-04T00:00:00.000000000",
          "2025-03-03T00:00:00.000000000",
          "2025-02-28T00:00:00.000000000",
          "2025-02-27T00:00:00.000000000",
          "2025-02-26T00:00:00.000000000",
          "2025-02-25T00:00:00.000000000",
          "2025-02-24T00:00:00.000000000",
          "2025-02-21T00:00:00.000000000",
          "2025-02-20T00:00:00.000000000",
          "2025-02-19T00:00:00.000000000",
          "2025-02-18T00:00:00.000000000",
          "2025-02-17T00:00:00.000000000",
          "2025-02-14T00:00:00.000000000",
          "2025-02-13T00:00:00.000000000",
          "2025-02-12T00:00:00.000000000",
          "2025-02-11T00:00:00.000000000",
          "2025-02-10T00:00:00.000000000",
          "2025-02-07T00:00:00.000000000",
          "2025-02-06T00:00:00.000000000",
          "2025-02-05T00:00:00.000000000",
          "2025-02-04T00:00:00.000000000",
          "2025-02-03T00:00:00.000000000",
          "2025-01-31T00:00:00.000000000",
          "2025-01-30T00:00:00.000000000",
          "2025-01-29T00:00:00.000000000",
          "2025-01-28T00:00:00.000000000",
          "2025-01-27T00:00:00.000000000",
          "2025-01-24T00:00:00.000000000",
          "2025-01-23T00:00:00.000000000",
          "2025-01-22T00:00:00.000000000",
          "2025-01-21T00:00:00.000000000",
          "2025-01-20T00:00:00.000000000",
          "2025-01-17T00:00:00.000000000",
          "2025-01-16T00:00:00.000000000",
          "2025-01-15T00:00:00.000000000",
          "2025-01-14T00:00:00.000000000",
          "2025-01-13T00:00:00.000000000",
          "2025-01-10T00:00:00.000000000",
          "2025-01-09T00:00:00.000000000",
          "2025-01-08T00:00:00.000000000",
          "2025-01-07T00:00:00.000000000",
          "2025-01-06T00:00:00.000000000",
          "2025-01-03T00:00:00.000000000",
          "2025-01-02T00:00:00.000000000",
          "2024-12-31T00:00:00.000000000",
          "2024-12-30T00:00:00.000000000",
          "2024-12-27T00:00:00.000000000",
          "2024-12-24T00:00:00.000000000",
          "2024-12-23T00:00:00.000000000",
          "2024-12-20T00:00:00.000000000"
         ]
        }
       ],
       "layout": {
        "height": 800,
        "template": {
         "data": {
          "candlestick": [
           {
            "decreasing": {
             "line": {
              "color": "#000033"
             }
            },
            "increasing": {
             "line": {
              "color": "#000032"
             }
            },
            "type": "candlestick"
           }
          ],
          "contour": [
           {
            "colorscale": [
             [
              0,
              "#000011"
             ],
             [
              0.1111111111111111,
              "#000012"
             ],
             [
              0.2222222222222222,
              "#000013"
             ],
             [
              0.3333333333333333,
              "#000014"
             ],
             [
              0.4444444444444444,
              "#000015"
             ],
             [
              0.5555555555555556,
              "#000016"
             ],
             [
              0.6666666666666666,
              "#000017"
             ],
             [
              0.7777777777777778,
              "#000018"
             ],
             [
              0.8888888888888888,
              "#000019"
             ],
             [
              1,
              "#000020"
             ]
            ],
            "type": "contour"
           }
          ],
          "contourcarpet": [
           {
            "colorscale": [
             [
              0,
              "#000011"
             ],
             [
              0.1111111111111111,
              "#000012"
             ],
             [
              0.2222222222222222,
              "#000013"
             ],
             [
              0.3333333333333333,
              "#000014"
             ],
             [
              0.4444444444444444,
              "#000015"
             ],
             [
              0.5555555555555556,
              "#000016"
             ],
             [
              0.6666666666666666,
              "#000017"
             ],
             [
              0.7777777777777778,
              "#000018"
             ],
             [
              0.8888888888888888,
              "#000019"
             ],
             [
              1,
              "#000020"
             ]
            ],
            "type": "contourcarpet"
           }
          ],
          "heatmap": [
           {
            "colorscale": [
             [
              0,
              "#000011"
             ],
             [
              0.1111111111111111,
              "#000012"
             ],
             [
              0.2222222222222222,
              "#000013"
             ],
             [
              0.3333333333333333,
              "#000014"
             ],
             [
              0.4444444444444444,
              "#000015"
             ],
             [
              0.5555555555555556,
              "#000016"
             ],
             [
              0.6666666666666666,
              "#000017"
             ],
             [
              0.7777777777777778,
              "#000018"
             ],
             [
              0.8888888888888888,
              "#000019"
             ],
             [
              1,
              "#000020"
             ]
            ],
            "type": "heatmap"
           }
          ],
          "histogram2d": [
           {
            "colorscale": [
             [
              0,
              "#000011"
             ],
             [
              0.1111111111111111,
              "#000012"
             ],
             [
              0.2222222222222222,
              "#000013"
             ],
             [
              0.3333333333333333,
              "#000014"
             ],
             [
              0.4444444444444444,
              "#000015"
             ],
             [
              0.5555555555555556,
              "#000016"
             ],
             [
              0.6666666666666666,
              "#000017"
             ],
             [
              0.7777777777777778,
              "#000018"
             ],
             [
              0.8888888888888888,
              "#000019"
             ],
             [
              1,
              "#000020"
             ]
            ],
            "type": "histogram2d"
           }
          ],
          "icicle": [
           {
            "textfont": {
             "color": "white"
            },
            "type": "icicle"
           }
          ],
          "sankey": [
           {
            "textfont": {
             "color": "#000036"
            },
            "type": "sankey"
           }
          ],
          "scatter": [
           {
            "marker": {
             "line": {
              "width": 0
             }
            },
            "type": "scatter"
           }
          ],
          "table": [
           {
            "cells": {
             "fill": {
              "color": "#000038"
             },
             "font": {
              "color": "#000037"
             },
             "line": {
              "color": "#000039"
             }
            },
            "header": {
             "fill": {
              "color": "#000040"
             },
             "font": {
              "color": "#000036"
             },
             "line": {
              "color": "#000039"
             }
            },
            "type": "table"
           }
          ],
          "waterfall": [
           {
            "connector": {
             "line": {
              "color": "#000036",
              "width": 2
             }
            },
            "decreasing": {
             "marker": {
              "color": "#000033"
             }
            },
            "increasing": {
             "marker": {
              "color": "#000032"
             }
            },
            "totals": {
             "marker": {
              "color": "#000034"
             }
            },
            "type": "waterfall"
           }
          ]
         },
         "layout": {
          "coloraxis": {
           "colorscale": [
            [
             0,
             "#000011"
            ],
            [
             0.1111111111111111,
             "#000012"
            ],
            [
             0.2222222222222222,
             "#000013"
            ],
            [
             0.3333333333333333,
             "#000014"
            ],
            [
             0.4444444444444444,
             "#000015"
            ],
            [
             0.5555555555555556,
             "#000016"
            ],
            [
             0.6666666666666666,
             "#000017"
            ],
            [
             0.7777777777777778,
             "#000018"
            ],
            [
             0.8888888888888888,
             "#000019"
            ],
            [
             1,
             "#000020"
            ]
           ]
          },
          "colorscale": {
           "diverging": [
            [
             0,
             "#000021"
            ],
            [
             0.1,
             "#000022"
            ],
            [
             0.2,
             "#000023"
            ],
            [
             0.3,
             "#000024"
            ],
            [
             0.4,
             "#000025"
            ],
            [
             0.5,
             "#000026"
            ],
            [
             0.6,
             "#000027"
            ],
            [
             0.7,
             "#000028"
            ],
            [
             0.8,
             "#000029"
            ],
            [
             0.9,
             "#000030"
            ],
            [
             1,
             "#000031"
            ]
           ],
           "sequential": [
            [
             0,
             "#000011"
            ],
            [
             0.1111111111111111,
             "#000012"
            ],
            [
             0.2222222222222222,
             "#000013"
            ],
            [
             0.3333333333333333,
             "#000014"
            ],
            [
             0.4444444444444444,
             "#000015"
            ],
            [
             0.5555555555555556,
             "#000016"
            ],
            [
             0.6666666666666666,
             "#000017"
            ],
            [
             0.7777777777777778,
             "#000018"
            ],
            [
             0.8888888888888888,
             "#000019"
            ],
            [
             1,
             "#000020"
            ]
           ],
           "sequentialminus": [
            [
             0,
             "#000011"
            ],
            [
             0.1111111111111111,
             "#000012"
            ],
            [
             0.2222222222222222,
             "#000013"
            ],
            [
             0.3333333333333333,
             "#000014"
            ],
            [
             0.4444444444444444,
             "#000015"
            ],
            [
             0.5555555555555556,
             "#000016"
            ],
            [
             0.6666666666666666,
             "#000017"
            ],
            [
             0.7777777777777778,
             "#000018"
            ],
            [
             0.8888888888888888,
             "#000019"
            ],
            [
             1,
             "#000020"
            ]
           ]
          },
          "colorway": [
           "#000001",
           "#000002",
           "#000003",
           "#000004",
           "#000005",
           "#000006",
           "#000007",
           "#000008",
           "#000009",
           "#000010"
          ]
         }
        },
        "width": 1000
       }
      }
     },
     "metadata": {},
     "output_type": "display_data"
    }
   ],
   "source": [
    "fig = go.Figure(\n",
    "    data=[\n",
    "        go.Candlestick(\n",
    "            x=res1.index,\n",
    "            open=res1[\"1. open\"],\n",
    "            high=res1[\"2. high\"],\n",
    "            low=res1[\"3. low\"],\n",
    "            close=res1[\"4. close\"],\n",
    "        )\n",
    "    ]\n",
    ")\n",
    "fig.update_layout({\"width\": 1000, \"height\": 800})\n",
    "\n",
    "fig.show()"
   ]
  },
  {
   "cell_type": "markdown",
   "id": "660d3d84",
   "metadata": {},
   "source": [
    "## Creating a class for any stock"
   ]
  },
  {
   "cell_type": "code",
   "execution_count": 11,
   "id": "990eca0f",
   "metadata": {},
   "outputs": [],
   "source": [
    "class StockAPI:\n",
    "\n",
    "    def __init__(self):\n",
    "        self.api_key = st.secrets[\"API_KEY\"]\n",
    "        self.url = \"https://alpha-vantage.p.rapidapi.com/query\"\n",
    "        self.headers = {\n",
    "            \"x-rapidapi-key\": self.api_key,\n",
    "            \"x-rapidapi-host\": \"alpha-vantage.p.rapidapi.com\",\n",
    "        }\n",
    "\n",
    "    def symbol_search(self, company: str) -> pd.DataFrame:\n",
    "        querystring = {\n",
    "            \"datatype\": \"json\",\n",
    "            \"keywords\": company,\n",
    "            \"function\": \"SYMBOL_SEARCH\",\n",
    "        }\n",
    "        response = requests.get(url=self.url, headers=self.headers, params=querystring)\n",
    "        data = response.json()[\"bestMatches\"]\n",
    "        return pd.DataFrame(data)\n",
    "\n",
    "    def stock_data(self, symbol: str) -> pd.DataFrame:\n",
    "        querystring = {\n",
    "            \"function\": \"TIME_SERIES_DAILY\",\n",
    "            \"symbol\": symbol,\n",
    "            \"outputsize\": \"compact\",\n",
    "            \"datatype\": \"json\",\n",
    "        }\n",
    "        response = requests.get(url=self.url, headers=self.headers, params=querystring)\n",
    "        data2 = response.json()[\"Time Series (Daily)\"]\n",
    "        res2 = pd.DataFrame(data2).T\n",
    "\n",
    "        # Convert output to float\n",
    "        res2 = res2.astype(float)\n",
    "\n",
    "        # Conert to index to datetime\n",
    "        res2.index = pd.to_datetime(res2.index)\n",
    "\n",
    "        return res2\n",
    "\n",
    "    def plot_chart(self, df: pd.DataFrame) -> go.Figure:\n",
    "        fig = go.Figure(\n",
    "            data=[\n",
    "                go.Candlestick(\n",
    "                    x=df.index,\n",
    "                    open=df[\"1. open\"],\n",
    "                    high=df[\"2. high\"],\n",
    "                    low=df[\"3. low\"],\n",
    "                    close=df[\"4. close\"],\n",
    "                    increasing=\"green\",\n",
    "                    decreasing=\"red\",\n",
    "                )\n",
    "            ]\n",
    "        )\n",
    "\n",
    "        fig.update_layout({\"width\": 1000, \"height\": 800})\n",
    "        return fig"
   ]
  },
  {
   "cell_type": "code",
   "execution_count": 12,
   "id": "d603101e",
   "metadata": {},
   "outputs": [],
   "source": [
    "client = StockAPI()"
   ]
  },
  {
   "cell_type": "code",
   "execution_count": 13,
   "id": "18fb125b",
   "metadata": {},
   "outputs": [
    {
     "data": {
      "text/html": [
       "<div>\n",
       "<style scoped>\n",
       "    .dataframe tbody tr th:only-of-type {\n",
       "        vertical-align: middle;\n",
       "    }\n",
       "\n",
       "    .dataframe tbody tr th {\n",
       "        vertical-align: top;\n",
       "    }\n",
       "\n",
       "    .dataframe thead th {\n",
       "        text-align: right;\n",
       "    }\n",
       "</style>\n",
       "<table border=\"1\" class=\"dataframe\">\n",
       "  <thead>\n",
       "    <tr style=\"text-align: right;\">\n",
       "      <th></th>\n",
       "      <th>1. symbol</th>\n",
       "      <th>2. name</th>\n",
       "      <th>3. type</th>\n",
       "      <th>4. region</th>\n",
       "      <th>5. marketOpen</th>\n",
       "      <th>6. marketClose</th>\n",
       "      <th>7. timezone</th>\n",
       "      <th>8. currency</th>\n",
       "      <th>9. matchScore</th>\n",
       "    </tr>\n",
       "  </thead>\n",
       "  <tbody>\n",
       "    <tr>\n",
       "      <th>0</th>\n",
       "      <td>CBSU</td>\n",
       "      <td>Central Bank Corp</td>\n",
       "      <td>Equity</td>\n",
       "      <td>United States</td>\n",
       "      <td>09:30</td>\n",
       "      <td>16:00</td>\n",
       "      <td>UTC-04</td>\n",
       "      <td>USD</td>\n",
       "      <td>0.8276</td>\n",
       "    </tr>\n",
       "    <tr>\n",
       "      <th>1</th>\n",
       "      <td>CENTRALBK.BSE</td>\n",
       "      <td>Central Bank of India</td>\n",
       "      <td>Equity</td>\n",
       "      <td>India/Bombay</td>\n",
       "      <td>09:15</td>\n",
       "      <td>15:30</td>\n",
       "      <td>UTC+5.5</td>\n",
       "      <td>INR</td>\n",
       "      <td>0.7500</td>\n",
       "    </tr>\n",
       "    <tr>\n",
       "      <th>2</th>\n",
       "      <td>532885.BSE</td>\n",
       "      <td>Central Bank of India</td>\n",
       "      <td>Equity</td>\n",
       "      <td>India/Bombay</td>\n",
       "      <td>09:15</td>\n",
       "      <td>15:30</td>\n",
       "      <td>UTC+5.5</td>\n",
       "      <td>INR</td>\n",
       "      <td>0.7273</td>\n",
       "    </tr>\n",
       "  </tbody>\n",
       "</table>\n",
       "</div>"
      ],
      "text/plain": [
       "       1. symbol                2. name 3. type      4. region 5. marketOpen  \\\n",
       "0           CBSU      Central Bank Corp  Equity  United States         09:30   \n",
       "1  CENTRALBK.BSE  Central Bank of India  Equity   India/Bombay         09:15   \n",
       "2     532885.BSE  Central Bank of India  Equity   India/Bombay         09:15   \n",
       "\n",
       "  6. marketClose 7. timezone 8. currency 9. matchScore  \n",
       "0          16:00      UTC-04         USD        0.8276  \n",
       "1          15:30     UTC+5.5         INR        0.7500  \n",
       "2          15:30     UTC+5.5         INR        0.7273  "
      ]
     },
     "execution_count": 13,
     "metadata": {},
     "output_type": "execute_result"
    }
   ],
   "source": [
    "client.symbol_search(\"Central Bank\")"
   ]
  },
  {
   "cell_type": "code",
   "execution_count": 14,
   "id": "b4ee919a",
   "metadata": {},
   "outputs": [
    {
     "data": {
      "text/html": [
       "<div>\n",
       "<style scoped>\n",
       "    .dataframe tbody tr th:only-of-type {\n",
       "        vertical-align: middle;\n",
       "    }\n",
       "\n",
       "    .dataframe tbody tr th {\n",
       "        vertical-align: top;\n",
       "    }\n",
       "\n",
       "    .dataframe thead th {\n",
       "        text-align: right;\n",
       "    }\n",
       "</style>\n",
       "<table border=\"1\" class=\"dataframe\">\n",
       "  <thead>\n",
       "    <tr style=\"text-align: right;\">\n",
       "      <th></th>\n",
       "      <th>1. symbol</th>\n",
       "      <th>2. name</th>\n",
       "      <th>3. type</th>\n",
       "      <th>4. region</th>\n",
       "      <th>5. marketOpen</th>\n",
       "      <th>6. marketClose</th>\n",
       "      <th>7. timezone</th>\n",
       "      <th>8. currency</th>\n",
       "      <th>9. matchScore</th>\n",
       "    </tr>\n",
       "  </thead>\n",
       "  <tbody>\n",
       "    <tr>\n",
       "      <th>0</th>\n",
       "      <td>TATACHEM.BSE</td>\n",
       "      <td>TATA CHEMICALS LTD.</td>\n",
       "      <td>Equity</td>\n",
       "      <td>India/Bombay</td>\n",
       "      <td>09:15</td>\n",
       "      <td>15:30</td>\n",
       "      <td>UTC+5.5</td>\n",
       "      <td>INR</td>\n",
       "      <td>0.5333</td>\n",
       "    </tr>\n",
       "    <tr>\n",
       "      <th>1</th>\n",
       "      <td>TATACOMM.BSE</td>\n",
       "      <td>TATA COMMUNICATIONS LTD.</td>\n",
       "      <td>Equity</td>\n",
       "      <td>India/Bombay</td>\n",
       "      <td>09:15</td>\n",
       "      <td>15:30</td>\n",
       "      <td>UTC+5.5</td>\n",
       "      <td>INR</td>\n",
       "      <td>0.5333</td>\n",
       "    </tr>\n",
       "    <tr>\n",
       "      <th>2</th>\n",
       "      <td>TATAELXSI.BSE</td>\n",
       "      <td>Tata Elxsi Limited</td>\n",
       "      <td>Equity</td>\n",
       "      <td>India/Bombay</td>\n",
       "      <td>09:15</td>\n",
       "      <td>15:30</td>\n",
       "      <td>UTC+5.5</td>\n",
       "      <td>INR</td>\n",
       "      <td>0.5000</td>\n",
       "    </tr>\n",
       "    <tr>\n",
       "      <th>3</th>\n",
       "      <td>TATAPOWER.BSE</td>\n",
       "      <td>TATA POWER CO.LTD.</td>\n",
       "      <td>Equity</td>\n",
       "      <td>India/Bombay</td>\n",
       "      <td>09:15</td>\n",
       "      <td>15:30</td>\n",
       "      <td>UTC+5.5</td>\n",
       "      <td>INR</td>\n",
       "      <td>0.5000</td>\n",
       "    </tr>\n",
       "    <tr>\n",
       "      <th>4</th>\n",
       "      <td>TATASTEEL.BSE</td>\n",
       "      <td>Tata Steel Limited</td>\n",
       "      <td>Equity</td>\n",
       "      <td>India/Bombay</td>\n",
       "      <td>09:15</td>\n",
       "      <td>15:30</td>\n",
       "      <td>UTC+5.5</td>\n",
       "      <td>INR</td>\n",
       "      <td>0.5000</td>\n",
       "    </tr>\n",
       "    <tr>\n",
       "      <th>5</th>\n",
       "      <td>TATACONSUM.BSE</td>\n",
       "      <td>Tata Consumer Products Ltd</td>\n",
       "      <td>Equity</td>\n",
       "      <td>India/Bombay</td>\n",
       "      <td>09:15</td>\n",
       "      <td>15:30</td>\n",
       "      <td>UTC+5.5</td>\n",
       "      <td>INR</td>\n",
       "      <td>0.4706</td>\n",
       "    </tr>\n",
       "    <tr>\n",
       "      <th>6</th>\n",
       "      <td>TATAINVEST.BSE</td>\n",
       "      <td>TATA INVESTMENT CORPORATION LTD.</td>\n",
       "      <td>Equity</td>\n",
       "      <td>India/Bombay</td>\n",
       "      <td>09:15</td>\n",
       "      <td>15:30</td>\n",
       "      <td>UTC+5.5</td>\n",
       "      <td>INR</td>\n",
       "      <td>0.4706</td>\n",
       "    </tr>\n",
       "    <tr>\n",
       "      <th>7</th>\n",
       "      <td>TATAMOTORS.BSE</td>\n",
       "      <td>Tata Motors Limited</td>\n",
       "      <td>Equity</td>\n",
       "      <td>India/Bombay</td>\n",
       "      <td>09:15</td>\n",
       "      <td>15:30</td>\n",
       "      <td>UTC+5.5</td>\n",
       "      <td>INR</td>\n",
       "      <td>0.4706</td>\n",
       "    </tr>\n",
       "    <tr>\n",
       "      <th>8</th>\n",
       "      <td>500800.BSE</td>\n",
       "      <td>Tata Consumer Products Limited</td>\n",
       "      <td>Equity</td>\n",
       "      <td>India/Bombay</td>\n",
       "      <td>09:15</td>\n",
       "      <td>15:30</td>\n",
       "      <td>UTC+5.5</td>\n",
       "      <td>INR</td>\n",
       "      <td>0.2353</td>\n",
       "    </tr>\n",
       "    <tr>\n",
       "      <th>9</th>\n",
       "      <td>TCS.BSE</td>\n",
       "      <td>Tata Consultancy Services Limited</td>\n",
       "      <td>Equity</td>\n",
       "      <td>India/Bombay</td>\n",
       "      <td>09:15</td>\n",
       "      <td>15:30</td>\n",
       "      <td>UTC+5.5</td>\n",
       "      <td>INR</td>\n",
       "      <td>0.2162</td>\n",
       "    </tr>\n",
       "  </tbody>\n",
       "</table>\n",
       "</div>"
      ],
      "text/plain": [
       "        1. symbol                            2. name 3. type     4. region  \\\n",
       "0    TATACHEM.BSE                TATA CHEMICALS LTD.  Equity  India/Bombay   \n",
       "1    TATACOMM.BSE           TATA COMMUNICATIONS LTD.  Equity  India/Bombay   \n",
       "2   TATAELXSI.BSE                 Tata Elxsi Limited  Equity  India/Bombay   \n",
       "3   TATAPOWER.BSE                 TATA POWER CO.LTD.  Equity  India/Bombay   \n",
       "4   TATASTEEL.BSE                 Tata Steel Limited  Equity  India/Bombay   \n",
       "5  TATACONSUM.BSE         Tata Consumer Products Ltd  Equity  India/Bombay   \n",
       "6  TATAINVEST.BSE   TATA INVESTMENT CORPORATION LTD.  Equity  India/Bombay   \n",
       "7  TATAMOTORS.BSE                Tata Motors Limited  Equity  India/Bombay   \n",
       "8      500800.BSE     Tata Consumer Products Limited  Equity  India/Bombay   \n",
       "9         TCS.BSE  Tata Consultancy Services Limited  Equity  India/Bombay   \n",
       "\n",
       "  5. marketOpen 6. marketClose 7. timezone 8. currency 9. matchScore  \n",
       "0         09:15          15:30     UTC+5.5         INR        0.5333  \n",
       "1         09:15          15:30     UTC+5.5         INR        0.5333  \n",
       "2         09:15          15:30     UTC+5.5         INR        0.5000  \n",
       "3         09:15          15:30     UTC+5.5         INR        0.5000  \n",
       "4         09:15          15:30     UTC+5.5         INR        0.5000  \n",
       "5         09:15          15:30     UTC+5.5         INR        0.4706  \n",
       "6         09:15          15:30     UTC+5.5         INR        0.4706  \n",
       "7         09:15          15:30     UTC+5.5         INR        0.4706  \n",
       "8         09:15          15:30     UTC+5.5         INR        0.2353  \n",
       "9         09:15          15:30     UTC+5.5         INR        0.2162  "
      ]
     },
     "execution_count": 14,
     "metadata": {},
     "output_type": "execute_result"
    }
   ],
   "source": [
    "client.symbol_search(\"Tata\")"
   ]
  },
  {
   "cell_type": "code",
   "execution_count": null,
   "id": "39536ae5",
   "metadata": {},
   "outputs": [],
   "source": []
  }
 ],
 "metadata": {
  "kernelspec": {
   "display_name": ".venv",
   "language": "python",
   "name": "python3"
  },
  "language_info": {
   "codemirror_mode": {
    "name": "ipython",
    "version": 3
   },
   "file_extension": ".py",
   "mimetype": "text/x-python",
   "name": "python",
   "nbconvert_exporter": "python",
   "pygments_lexer": "ipython3",
   "version": "3.13.3"
  }
 },
 "nbformat": 4,
 "nbformat_minor": 5
}
